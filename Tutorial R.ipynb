{
 "cells": [
  {
   "cell_type": "markdown",
   "metadata": {},
   "source": [
    "# Tutorial R"
   ]
  },
  {
   "cell_type": "markdown",
   "metadata": {},
   "source": [
    "Nesse tutorial serão demonstradas algumas funções das gramáticas 'dplyr' e 'ggplot' contidas na biblioteca 'tidyverse'."
   ]
  },
  {
   "cell_type": "code",
   "execution_count": 8,
   "metadata": {},
   "outputs": [],
   "source": [
    "library(tidyverse)"
   ]
  },
  {
   "cell_type": "markdown",
   "metadata": {},
   "source": [
    "Para esse tutorial, usaremos como dados a tibble starwars já presente na 'tidyverse'"
   ]
  },
  {
   "cell_type": "code",
   "execution_count": 15,
   "metadata": {},
   "outputs": [
    {
     "name": "stdout",
     "output_type": "stream",
     "text": [
      "Observations: 87\n",
      "Variables: 13\n",
      "$ name       <chr> \"Luke Skywalker\", \"C-3PO\", \"R2-D2\", \"Darth Vader\", \"Leia...\n",
      "$ height     <int> 172, 167, 96, 202, 150, 178, 165, 97, 183, 182, 188, 180...\n",
      "$ mass       <dbl> 77.0, 75.0, 32.0, 136.0, 49.0, 120.0, 75.0, 32.0, 84.0, ...\n",
      "$ hair_color <chr> \"blond\", NA, NA, \"none\", \"brown\", \"brown, grey\", \"brown\"...\n",
      "$ skin_color <chr> \"fair\", \"gold\", \"white, blue\", \"white\", \"light\", \"light\"...\n",
      "$ eye_color  <chr> \"blue\", \"yellow\", \"red\", \"yellow\", \"brown\", \"blue\", \"blu...\n",
      "$ birth_year <dbl> 19.0, 112.0, 33.0, 41.9, 19.0, 52.0, 47.0, NA, 24.0, 57....\n",
      "$ gender     <chr> \"male\", NA, NA, \"male\", \"female\", \"male\", \"female\", NA, ...\n",
      "$ homeworld  <chr> \"Tatooine\", \"Tatooine\", \"Naboo\", \"Tatooine\", \"Alderaan\",...\n",
      "$ species    <chr> \"Human\", \"Droid\", \"Droid\", \"Human\", \"Human\", \"Human\", \"H...\n",
      "$ films      <list> [<\"Revenge of the Sith\", \"Return of the Jedi\", \"The Emp...\n",
      "$ vehicles   <list> [<\"Snowspeeder\", \"Imperial Speeder Bike\">, <>, <>, <>, ...\n",
      "$ starships  <list> [<\"X-wing\", \"Imperial shuttle\">, <>, <>, \"TIE Advanced ...\n"
     ]
    }
   ],
   "source": [
    "glimpse(starwars)\n",
    "\n",
    "#contém 13 variáveis e 87 observações"
   ]
  },
  {
   "cell_type": "markdown",
   "metadata": {},
   "source": [
    "## dplyr"
   ]
  },
  {
   "cell_type": "markdown",
   "metadata": {},
   "source": [
    "Gramática de manipulação de dados"
   ]
  },
  {
   "cell_type": "markdown",
   "metadata": {},
   "source": [
    "#### Select"
   ]
  },
  {
   "cell_type": "markdown",
   "metadata": {},
   "source": [
    "Seleciona variáveis a partir de seus nomes:"
   ]
  },
  {
   "cell_type": "code",
   "execution_count": 36,
   "metadata": {},
   "outputs": [
    {
     "name": "stdout",
     "output_type": "stream",
     "text": [
      "Observations: 87\n",
      "Variables: 4\n",
      "$ name    <chr> \"Luke Skywalker\", \"C-3PO\", \"R2-D2\", \"Darth Vader\", \"Leia Or...\n",
      "$ mass    <dbl> 77.0, 75.0, 32.0, 136.0, 49.0, 120.0, 75.0, 32.0, 84.0, 77....\n",
      "$ height  <int> 172, 167, 96, 202, 150, 178, 165, 97, 183, 182, 188, 180, 2...\n",
      "$ species <chr> \"Human\", \"Droid\", \"Droid\", \"Human\", \"Human\", \"Human\", \"Huma...\n"
     ]
    }
   ],
   "source": [
    "#das 13 variáveis presentes nessa tibble, iremos selecionar apenas quatro delas:\n",
    "#o name, mass, height, e species\n",
    "\n",
    "#note que as operções são realizadas através do pipe\n",
    "starwars %>%\n",
    "    select(name, mass, height, species) %>%\n",
    "    glimpse()\n",
    "\n",
    "#glimpse serve para mostrar um \"vislumbre\" (glimpse) de seus dados"
   ]
  },
  {
   "cell_type": "markdown",
   "metadata": {},
   "source": [
    "#### Filter"
   ]
  },
  {
   "cell_type": "markdown",
   "metadata": {},
   "source": [
    "O filter seleciona casos a partir de seus valores, serve para filtrar:"
   ]
  },
  {
   "cell_type": "code",
   "execution_count": 37,
   "metadata": {},
   "outputs": [
    {
     "data": {
      "text/html": [
       "<table>\n",
       "<thead><tr><th scope=col>name</th><th scope=col>mass</th><th scope=col>height</th><th scope=col>species</th></tr></thead>\n",
       "<tbody>\n",
       "\t<tr><td>Luke Skywalker       </td><td>  77.0               </td><td>172                  </td><td>Human                </td></tr>\n",
       "\t<tr><td>C-3PO                </td><td>  75.0               </td><td>167                  </td><td>Droid                </td></tr>\n",
       "\t<tr><td>R2-D2                </td><td>  32.0               </td><td> 96                  </td><td>Droid                </td></tr>\n",
       "\t<tr><td>Darth Vader          </td><td> 136.0               </td><td>202                  </td><td>Human                </td></tr>\n",
       "\t<tr><td>Leia Organa          </td><td>  49.0               </td><td>150                  </td><td>Human                </td></tr>\n",
       "\t<tr><td>Owen Lars            </td><td> 120.0               </td><td>178                  </td><td>Human                </td></tr>\n",
       "\t<tr><td>Beru Whitesun lars   </td><td>  75.0               </td><td>165                  </td><td>Human                </td></tr>\n",
       "\t<tr><td>R5-D4                </td><td>  32.0               </td><td> 97                  </td><td>Droid                </td></tr>\n",
       "\t<tr><td>Biggs Darklighter    </td><td>  84.0               </td><td>183                  </td><td>Human                </td></tr>\n",
       "\t<tr><td>Obi-Wan Kenobi       </td><td>  77.0               </td><td>182                  </td><td>Human                </td></tr>\n",
       "\t<tr><td>Anakin Skywalker     </td><td>  84.0               </td><td>188                  </td><td>Human                </td></tr>\n",
       "\t<tr><td>Chewbacca            </td><td> 112.0               </td><td>228                  </td><td>Wookiee              </td></tr>\n",
       "\t<tr><td>Han Solo             </td><td>  80.0               </td><td>180                  </td><td>Human                </td></tr>\n",
       "\t<tr><td>Greedo               </td><td>  74.0               </td><td>173                  </td><td>Rodian               </td></tr>\n",
       "\t<tr><td>Jabba Desilijic Tiure</td><td>1358.0               </td><td>175                  </td><td>Hutt                 </td></tr>\n",
       "\t<tr><td>Wedge Antilles       </td><td>  77.0               </td><td>170                  </td><td>Human                </td></tr>\n",
       "\t<tr><td>Jek Tono Porkins     </td><td> 110.0               </td><td>180                  </td><td>Human                </td></tr>\n",
       "\t<tr><td>Yoda                 </td><td>  17.0               </td><td> 66                  </td><td>Yoda's species       </td></tr>\n",
       "\t<tr><td>Palpatine            </td><td>  75.0               </td><td>170                  </td><td>Human                </td></tr>\n",
       "\t<tr><td>Boba Fett            </td><td>  78.2               </td><td>183                  </td><td>Human                </td></tr>\n",
       "\t<tr><td>IG-88                </td><td> 140.0               </td><td>200                  </td><td>Droid                </td></tr>\n",
       "\t<tr><td>Bossk                </td><td> 113.0               </td><td>190                  </td><td>Trandoshan           </td></tr>\n",
       "\t<tr><td>Lando Calrissian     </td><td>  79.0               </td><td>177                  </td><td>Human                </td></tr>\n",
       "\t<tr><td>Lobot                </td><td>  79.0               </td><td>175                  </td><td>Human                </td></tr>\n",
       "\t<tr><td>Ackbar               </td><td>  83.0               </td><td>180                  </td><td>Mon Calamari         </td></tr>\n",
       "\t<tr><td>Wicket Systri Warrick</td><td>  20.0               </td><td> 88                  </td><td>Ewok                 </td></tr>\n",
       "\t<tr><td>Nien Nunb            </td><td>  68.0               </td><td>160                  </td><td>Sullustan            </td></tr>\n",
       "\t<tr><td>Qui-Gon Jinn         </td><td>  89.0               </td><td>193                  </td><td>Human                </td></tr>\n",
       "\t<tr><td>Nute Gunray          </td><td>  90.0               </td><td>191                  </td><td>Neimodian            </td></tr>\n",
       "\t<tr><td>Jar Jar Binks        </td><td>  66.0               </td><td>196                  </td><td>Gungan               </td></tr>\n",
       "\t<tr><td>Roos Tarpals         </td><td>  82.0               </td><td>224                  </td><td>Gungan               </td></tr>\n",
       "\t<tr><td>Sebulba              </td><td>  40.0               </td><td>112                  </td><td>Dug                  </td></tr>\n",
       "\t<tr><td>Darth Maul           </td><td>  80.0               </td><td>175                  </td><td>Zabrak               </td></tr>\n",
       "\t<tr><td>Ayla Secura          </td><td>  55.0               </td><td>178                  </td><td>Twi'lek              </td></tr>\n",
       "\t<tr><td>Dud Bolt             </td><td>  45.0               </td><td> 94                  </td><td>Vulptereen           </td></tr>\n",
       "\t<tr><td>Ben Quadinaros       </td><td>  65.0               </td><td>163                  </td><td>Toong                </td></tr>\n",
       "\t<tr><td>Mace Windu           </td><td>  84.0               </td><td>188                  </td><td>Human                </td></tr>\n",
       "\t<tr><td>Ki-Adi-Mundi         </td><td>  82.0               </td><td>198                  </td><td>Cerean               </td></tr>\n",
       "\t<tr><td>Kit Fisto            </td><td>  87.0               </td><td>196                  </td><td>Nautolan             </td></tr>\n",
       "\t<tr><td>Adi Gallia           </td><td>  50.0               </td><td>184                  </td><td>Tholothian           </td></tr>\n",
       "\t<tr><td>Plo Koon             </td><td>  80.0               </td><td>188                  </td><td>Kel Dor              </td></tr>\n",
       "\t<tr><td>Gregar Typho         </td><td>  85.0               </td><td>185                  </td><td>Human                </td></tr>\n",
       "\t<tr><td>Poggle the Lesser    </td><td>  80.0               </td><td>183                  </td><td>Geonosian            </td></tr>\n",
       "\t<tr><td>Luminara Unduli      </td><td>  56.2               </td><td>170                  </td><td>Mirialan             </td></tr>\n",
       "\t<tr><td>Barriss Offee        </td><td>  50.0               </td><td>166                  </td><td>Mirialan             </td></tr>\n",
       "\t<tr><td>Dooku                </td><td>  80.0               </td><td>193                  </td><td>Human                </td></tr>\n",
       "\t<tr><td>Jango Fett           </td><td>  79.0               </td><td>183                  </td><td>Human                </td></tr>\n",
       "\t<tr><td>Zam Wesell           </td><td>  55.0               </td><td>168                  </td><td>Clawdite             </td></tr>\n",
       "\t<tr><td>Dexter Jettster      </td><td> 102.0               </td><td>198                  </td><td>Besalisk             </td></tr>\n",
       "\t<tr><td>Lama Su              </td><td>  88.0               </td><td>229                  </td><td>Kaminoan             </td></tr>\n",
       "\t<tr><td>Ratts Tyerell        </td><td>  15.0               </td><td> 79                  </td><td>Aleena               </td></tr>\n",
       "\t<tr><td>Wat Tambor           </td><td>  48.0               </td><td>193                  </td><td>Skakoan              </td></tr>\n",
       "\t<tr><td>Shaak Ti             </td><td>  57.0               </td><td>178                  </td><td>Togruta              </td></tr>\n",
       "\t<tr><td>Grievous             </td><td> 159.0               </td><td>216                  </td><td>Kaleesh              </td></tr>\n",
       "\t<tr><td>Tarfful              </td><td> 136.0               </td><td>234                  </td><td>Wookiee              </td></tr>\n",
       "\t<tr><td>Raymus Antilles      </td><td>  79.0               </td><td>188                  </td><td>Human                </td></tr>\n",
       "\t<tr><td>Sly Moore            </td><td>  48.0               </td><td>178                  </td><td>NA                   </td></tr>\n",
       "\t<tr><td>Tion Medon           </td><td>  80.0               </td><td>206                  </td><td>Pau'an               </td></tr>\n",
       "\t<tr><td>Padmé Amidala        </td><td>  45.0               </td><td>165                  </td><td>Human                </td></tr>\n",
       "</tbody>\n",
       "</table>\n"
      ],
      "text/latex": [
       "\\begin{tabular}{r|llll}\n",
       " name & mass & height & species\\\\\n",
       "\\hline\n",
       "\t Luke Skywalker        &   77.0                & 172                   & Human                \\\\\n",
       "\t C-3PO                 &   75.0                & 167                   & Droid                \\\\\n",
       "\t R2-D2                 &   32.0                &  96                   & Droid                \\\\\n",
       "\t Darth Vader           &  136.0                & 202                   & Human                \\\\\n",
       "\t Leia Organa           &   49.0                & 150                   & Human                \\\\\n",
       "\t Owen Lars             &  120.0                & 178                   & Human                \\\\\n",
       "\t Beru Whitesun lars    &   75.0                & 165                   & Human                \\\\\n",
       "\t R5-D4                 &   32.0                &  97                   & Droid                \\\\\n",
       "\t Biggs Darklighter     &   84.0                & 183                   & Human                \\\\\n",
       "\t Obi-Wan Kenobi        &   77.0                & 182                   & Human                \\\\\n",
       "\t Anakin Skywalker      &   84.0                & 188                   & Human                \\\\\n",
       "\t Chewbacca             &  112.0                & 228                   & Wookiee              \\\\\n",
       "\t Han Solo              &   80.0                & 180                   & Human                \\\\\n",
       "\t Greedo                &   74.0                & 173                   & Rodian               \\\\\n",
       "\t Jabba Desilijic Tiure & 1358.0                & 175                   & Hutt                 \\\\\n",
       "\t Wedge Antilles        &   77.0                & 170                   & Human                \\\\\n",
       "\t Jek Tono Porkins      &  110.0                & 180                   & Human                \\\\\n",
       "\t Yoda                  &   17.0                &  66                   & Yoda's species       \\\\\n",
       "\t Palpatine             &   75.0                & 170                   & Human                \\\\\n",
       "\t Boba Fett             &   78.2                & 183                   & Human                \\\\\n",
       "\t IG-88                 &  140.0                & 200                   & Droid                \\\\\n",
       "\t Bossk                 &  113.0                & 190                   & Trandoshan           \\\\\n",
       "\t Lando Calrissian      &   79.0                & 177                   & Human                \\\\\n",
       "\t Lobot                 &   79.0                & 175                   & Human                \\\\\n",
       "\t Ackbar                &   83.0                & 180                   & Mon Calamari         \\\\\n",
       "\t Wicket Systri Warrick &   20.0                &  88                   & Ewok                 \\\\\n",
       "\t Nien Nunb             &   68.0                & 160                   & Sullustan            \\\\\n",
       "\t Qui-Gon Jinn          &   89.0                & 193                   & Human                \\\\\n",
       "\t Nute Gunray           &   90.0                & 191                   & Neimodian            \\\\\n",
       "\t Jar Jar Binks         &   66.0                & 196                   & Gungan               \\\\\n",
       "\t Roos Tarpals          &   82.0                & 224                   & Gungan               \\\\\n",
       "\t Sebulba               &   40.0                & 112                   & Dug                  \\\\\n",
       "\t Darth Maul            &   80.0                & 175                   & Zabrak               \\\\\n",
       "\t Ayla Secura           &   55.0                & 178                   & Twi'lek              \\\\\n",
       "\t Dud Bolt              &   45.0                &  94                   & Vulptereen           \\\\\n",
       "\t Ben Quadinaros        &   65.0                & 163                   & Toong                \\\\\n",
       "\t Mace Windu            &   84.0                & 188                   & Human                \\\\\n",
       "\t Ki-Adi-Mundi          &   82.0                & 198                   & Cerean               \\\\\n",
       "\t Kit Fisto             &   87.0                & 196                   & Nautolan             \\\\\n",
       "\t Adi Gallia            &   50.0                & 184                   & Tholothian           \\\\\n",
       "\t Plo Koon              &   80.0                & 188                   & Kel Dor              \\\\\n",
       "\t Gregar Typho          &   85.0                & 185                   & Human                \\\\\n",
       "\t Poggle the Lesser     &   80.0                & 183                   & Geonosian            \\\\\n",
       "\t Luminara Unduli       &   56.2                & 170                   & Mirialan             \\\\\n",
       "\t Barriss Offee         &   50.0                & 166                   & Mirialan             \\\\\n",
       "\t Dooku                 &   80.0                & 193                   & Human                \\\\\n",
       "\t Jango Fett            &   79.0                & 183                   & Human                \\\\\n",
       "\t Zam Wesell            &   55.0                & 168                   & Clawdite             \\\\\n",
       "\t Dexter Jettster       &  102.0                & 198                   & Besalisk             \\\\\n",
       "\t Lama Su               &   88.0                & 229                   & Kaminoan             \\\\\n",
       "\t Ratts Tyerell         &   15.0                &  79                   & Aleena               \\\\\n",
       "\t Wat Tambor            &   48.0                & 193                   & Skakoan              \\\\\n",
       "\t Shaak Ti              &   57.0                & 178                   & Togruta              \\\\\n",
       "\t Grievous              &  159.0                & 216                   & Kaleesh              \\\\\n",
       "\t Tarfful               &  136.0                & 234                   & Wookiee              \\\\\n",
       "\t Raymus Antilles       &   79.0                & 188                   & Human                \\\\\n",
       "\t Sly Moore             &   48.0                & 178                   & NA                   \\\\\n",
       "\t Tion Medon            &   80.0                & 206                   & Pau'an               \\\\\n",
       "\t Padmé Amidala         &   45.0                & 165                   & Human                \\\\\n",
       "\\end{tabular}\n"
      ],
      "text/markdown": [
       "\n",
       "name | mass | height | species | \n",
       "|---|---|---|---|---|---|---|---|---|---|---|---|---|---|---|---|---|---|---|---|---|---|---|---|---|---|---|---|---|---|---|---|---|---|---|---|---|---|---|---|---|---|---|---|---|---|---|---|---|---|---|---|---|---|---|---|---|---|---|\n",
       "| Luke Skywalker        |   77.0                | 172                   | Human                 | \n",
       "| C-3PO                 |   75.0                | 167                   | Droid                 | \n",
       "| R2-D2                 |   32.0                |  96                   | Droid                 | \n",
       "| Darth Vader           |  136.0                | 202                   | Human                 | \n",
       "| Leia Organa           |   49.0                | 150                   | Human                 | \n",
       "| Owen Lars             |  120.0                | 178                   | Human                 | \n",
       "| Beru Whitesun lars    |   75.0                | 165                   | Human                 | \n",
       "| R5-D4                 |   32.0                |  97                   | Droid                 | \n",
       "| Biggs Darklighter     |   84.0                | 183                   | Human                 | \n",
       "| Obi-Wan Kenobi        |   77.0                | 182                   | Human                 | \n",
       "| Anakin Skywalker      |   84.0                | 188                   | Human                 | \n",
       "| Chewbacca             |  112.0                | 228                   | Wookiee               | \n",
       "| Han Solo              |   80.0                | 180                   | Human                 | \n",
       "| Greedo                |   74.0                | 173                   | Rodian                | \n",
       "| Jabba Desilijic Tiure | 1358.0                | 175                   | Hutt                  | \n",
       "| Wedge Antilles        |   77.0                | 170                   | Human                 | \n",
       "| Jek Tono Porkins      |  110.0                | 180                   | Human                 | \n",
       "| Yoda                  |   17.0                |  66                   | Yoda's species        | \n",
       "| Palpatine             |   75.0                | 170                   | Human                 | \n",
       "| Boba Fett             |   78.2                | 183                   | Human                 | \n",
       "| IG-88                 |  140.0                | 200                   | Droid                 | \n",
       "| Bossk                 |  113.0                | 190                   | Trandoshan            | \n",
       "| Lando Calrissian      |   79.0                | 177                   | Human                 | \n",
       "| Lobot                 |   79.0                | 175                   | Human                 | \n",
       "| Ackbar                |   83.0                | 180                   | Mon Calamari          | \n",
       "| Wicket Systri Warrick |   20.0                |  88                   | Ewok                  | \n",
       "| Nien Nunb             |   68.0                | 160                   | Sullustan             | \n",
       "| Qui-Gon Jinn          |   89.0                | 193                   | Human                 | \n",
       "| Nute Gunray           |   90.0                | 191                   | Neimodian             | \n",
       "| Jar Jar Binks         |   66.0                | 196                   | Gungan                | \n",
       "| Roos Tarpals          |   82.0                | 224                   | Gungan                | \n",
       "| Sebulba               |   40.0                | 112                   | Dug                   | \n",
       "| Darth Maul            |   80.0                | 175                   | Zabrak                | \n",
       "| Ayla Secura           |   55.0                | 178                   | Twi'lek               | \n",
       "| Dud Bolt              |   45.0                |  94                   | Vulptereen            | \n",
       "| Ben Quadinaros        |   65.0                | 163                   | Toong                 | \n",
       "| Mace Windu            |   84.0                | 188                   | Human                 | \n",
       "| Ki-Adi-Mundi          |   82.0                | 198                   | Cerean                | \n",
       "| Kit Fisto             |   87.0                | 196                   | Nautolan              | \n",
       "| Adi Gallia            |   50.0                | 184                   | Tholothian            | \n",
       "| Plo Koon              |   80.0                | 188                   | Kel Dor               | \n",
       "| Gregar Typho          |   85.0                | 185                   | Human                 | \n",
       "| Poggle the Lesser     |   80.0                | 183                   | Geonosian             | \n",
       "| Luminara Unduli       |   56.2                | 170                   | Mirialan              | \n",
       "| Barriss Offee         |   50.0                | 166                   | Mirialan              | \n",
       "| Dooku                 |   80.0                | 193                   | Human                 | \n",
       "| Jango Fett            |   79.0                | 183                   | Human                 | \n",
       "| Zam Wesell            |   55.0                | 168                   | Clawdite              | \n",
       "| Dexter Jettster       |  102.0                | 198                   | Besalisk              | \n",
       "| Lama Su               |   88.0                | 229                   | Kaminoan              | \n",
       "| Ratts Tyerell         |   15.0                |  79                   | Aleena                | \n",
       "| Wat Tambor            |   48.0                | 193                   | Skakoan               | \n",
       "| Shaak Ti              |   57.0                | 178                   | Togruta               | \n",
       "| Grievous              |  159.0                | 216                   | Kaleesh               | \n",
       "| Tarfful               |  136.0                | 234                   | Wookiee               | \n",
       "| Raymus Antilles       |   79.0                | 188                   | Human                 | \n",
       "| Sly Moore             |   48.0                | 178                   | NA                    | \n",
       "| Tion Medon            |   80.0                | 206                   | Pau'an                | \n",
       "| Padmé Amidala         |   45.0                | 165                   | Human                 | \n",
       "\n",
       "\n"
      ],
      "text/plain": [
       "   name                  mass   height species       \n",
       "1  Luke Skywalker          77.0 172    Human         \n",
       "2  C-3PO                   75.0 167    Droid         \n",
       "3  R2-D2                   32.0  96    Droid         \n",
       "4  Darth Vader            136.0 202    Human         \n",
       "5  Leia Organa             49.0 150    Human         \n",
       "6  Owen Lars              120.0 178    Human         \n",
       "7  Beru Whitesun lars      75.0 165    Human         \n",
       "8  R5-D4                   32.0  97    Droid         \n",
       "9  Biggs Darklighter       84.0 183    Human         \n",
       "10 Obi-Wan Kenobi          77.0 182    Human         \n",
       "11 Anakin Skywalker        84.0 188    Human         \n",
       "12 Chewbacca              112.0 228    Wookiee       \n",
       "13 Han Solo                80.0 180    Human         \n",
       "14 Greedo                  74.0 173    Rodian        \n",
       "15 Jabba Desilijic Tiure 1358.0 175    Hutt          \n",
       "16 Wedge Antilles          77.0 170    Human         \n",
       "17 Jek Tono Porkins       110.0 180    Human         \n",
       "18 Yoda                    17.0  66    Yoda's species\n",
       "19 Palpatine               75.0 170    Human         \n",
       "20 Boba Fett               78.2 183    Human         \n",
       "21 IG-88                  140.0 200    Droid         \n",
       "22 Bossk                  113.0 190    Trandoshan    \n",
       "23 Lando Calrissian        79.0 177    Human         \n",
       "24 Lobot                   79.0 175    Human         \n",
       "25 Ackbar                  83.0 180    Mon Calamari  \n",
       "26 Wicket Systri Warrick   20.0  88    Ewok          \n",
       "27 Nien Nunb               68.0 160    Sullustan     \n",
       "28 Qui-Gon Jinn            89.0 193    Human         \n",
       "29 Nute Gunray             90.0 191    Neimodian     \n",
       "30 Jar Jar Binks           66.0 196    Gungan        \n",
       "31 Roos Tarpals            82.0 224    Gungan        \n",
       "32 Sebulba                 40.0 112    Dug           \n",
       "33 Darth Maul              80.0 175    Zabrak        \n",
       "34 Ayla Secura             55.0 178    Twi'lek       \n",
       "35 Dud Bolt                45.0  94    Vulptereen    \n",
       "36 Ben Quadinaros          65.0 163    Toong         \n",
       "37 Mace Windu              84.0 188    Human         \n",
       "38 Ki-Adi-Mundi            82.0 198    Cerean        \n",
       "39 Kit Fisto               87.0 196    Nautolan      \n",
       "40 Adi Gallia              50.0 184    Tholothian    \n",
       "41 Plo Koon                80.0 188    Kel Dor       \n",
       "42 Gregar Typho            85.0 185    Human         \n",
       "43 Poggle the Lesser       80.0 183    Geonosian     \n",
       "44 Luminara Unduli         56.2 170    Mirialan      \n",
       "45 Barriss Offee           50.0 166    Mirialan      \n",
       "46 Dooku                   80.0 193    Human         \n",
       "47 Jango Fett              79.0 183    Human         \n",
       "48 Zam Wesell              55.0 168    Clawdite      \n",
       "49 Dexter Jettster        102.0 198    Besalisk      \n",
       "50 Lama Su                 88.0 229    Kaminoan      \n",
       "51 Ratts Tyerell           15.0  79    Aleena        \n",
       "52 Wat Tambor              48.0 193    Skakoan       \n",
       "53 Shaak Ti                57.0 178    Togruta       \n",
       "54 Grievous               159.0 216    Kaleesh       \n",
       "55 Tarfful                136.0 234    Wookiee       \n",
       "56 Raymus Antilles         79.0 188    Human         \n",
       "57 Sly Moore               48.0 178    NA            \n",
       "58 Tion Medon              80.0 206    Pau'an        \n",
       "59 Padmé Amidala           45.0 165    Human         "
      ]
     },
     "metadata": {},
     "output_type": "display_data"
    }
   ],
   "source": [
    "#para exemplificar essa função, iremos selecionar apenas casos onde\n",
    "#não se tenha valores NA (Not Available), pois o R não faz operações\n",
    "#quando se tem valores NA nos dados\n",
    "\n",
    "starwars %>%\n",
    "    select(name, mass, height, species) %>%\n",
    "    filter(!is.na(mass),\n",
    "          !is.na(height))\n",
    "    \n",
    "#a função is.na retorna se uma variável tem valor NA ou não"
   ]
  },
  {
   "cell_type": "markdown",
   "metadata": {},
   "source": [
    "Agora que não temos mais valores NA, iremos para a próxima função."
   ]
  },
  {
   "cell_type": "markdown",
   "metadata": {},
   "source": [
    "#### Mutate"
   ]
  },
  {
   "cell_type": "markdown",
   "metadata": {},
   "source": [
    "Adiciona novas variáveis vindas de funções realizadas em variáveis já existentes:"
   ]
  },
  {
   "cell_type": "code",
   "execution_count": 50,
   "metadata": {},
   "outputs": [
    {
     "name": "stdout",
     "output_type": "stream",
     "text": [
      "Observations: 59\n",
      "Variables: 5\n",
      "$ name    <chr> \"Luke Skywalker\", \"C-3PO\", \"R2-D2\", \"Darth Vader\", \"Leia Or...\n",
      "$ mass    <dbl> 77.0, 75.0, 32.0, 136.0, 49.0, 120.0, 75.0, 32.0, 84.0, 77....\n",
      "$ height  <int> 172, 167, 96, 202, 150, 178, 165, 97, 183, 182, 188, 228, 1...\n",
      "$ species <chr> \"Human\", \"Droid\", \"Droid\", \"Human\", \"Human\", \"Human\", \"Huma...\n",
      "$ imc     <dbl> 26.02758, 26.89232, 34.72222, 33.33007, 21.77778, 37.87401,...\n"
     ]
    }
   ],
   "source": [
    "#nesse exemplo será criada a variável IMC, que será calculada a\n",
    "#da massa e altura de cada personagem\n",
    "\n",
    "starwars %>%\n",
    "    select(name, mass, height, species) %>%\n",
    "    filter(!is.na(mass),\n",
    "          !is.na(height)) %>%\n",
    "    mutate(imc = mass / (height / 100) ** 2) %>%\n",
    "    glimpse()"
   ]
  },
  {
   "cell_type": "markdown",
   "metadata": {},
   "source": [
    "#### Bônus"
   ]
  },
  {
   "cell_type": "code",
   "execution_count": 54,
   "metadata": {},
   "outputs": [
    {
     "name": "stdout",
     "output_type": "stream",
     "text": [
      "Observations: 31\n",
      "Variables: 5\n",
      "$ name    <chr> \"Luke Skywalker\", \"Darth Vader\", \"Leia Organa\", \"Owen Lars\"...\n",
      "$ mass    <dbl> 77.0, 136.0, 49.0, 120.0, 75.0, 84.0, 77.0, 84.0, 80.0, 77....\n",
      "$ height  <int> 172, 202, 150, 178, 165, 183, 182, 188, 180, 170, 180, 170,...\n",
      "$ species <chr> \"Human\", \"Human\", \"Human\", \"Human\", \"Human\", \"Human\", \"Huma...\n",
      "$ imc     <dbl> 26.02758, 33.33007, 21.77778, 37.87401, 27.54821, 25.08286,...\n"
     ]
    }
   ],
   "source": [
    "#do conjunto de dados obtidos a partir das operações acima serão\n",
    "#selecionadas, por meio do filter, instâncias de dados que sejam\n",
    "#de espécies humanóides e relativamente parecidas com humanos\n",
    "\n",
    "#note que no último filter a variável species é comparadas com\n",
    "#valores que pertencem a um vetor, por meio do %in%\n",
    "\n",
    "starwars %>%\n",
    "    select(name, mass, height, species) %>%\n",
    "    filter(!is.na(mass),\n",
    "          !is.na(height)) %>%\n",
    "    mutate(imc = mass / (height / 100) ** 2) %>%\n",
    "    filter(species %in% c('Human', 'Cerean', 'Clawdite', 'Kel Dor', 'Mirialan', 'Neimodian',\n",
    "                         'Tholothian', 'Togruta', 'Zabrak')) %>%\n",
    "    glimpse()"
   ]
  },
  {
   "cell_type": "markdown",
   "metadata": {},
   "source": [
    "#### Arrange"
   ]
  },
  {
   "cell_type": "markdown",
   "metadata": {},
   "source": [
    "Ordena as linhas, a partir dos valores de uma variável:"
   ]
  },
  {
   "cell_type": "code",
   "execution_count": 56,
   "metadata": {},
   "outputs": [
    {
     "data": {
      "text/html": [
       "<table>\n",
       "<thead><tr><th scope=col>name</th><th scope=col>mass</th><th scope=col>height</th><th scope=col>species</th><th scope=col>imc</th></tr></thead>\n",
       "<tbody>\n",
       "\t<tr><td>Owen Lars         </td><td>120.0             </td><td>178               </td><td>Human             </td><td>37.87401          </td></tr>\n",
       "\t<tr><td>Jek Tono Porkins  </td><td>110.0             </td><td>180               </td><td>Human             </td><td>33.95062          </td></tr>\n",
       "\t<tr><td>Darth Vader       </td><td>136.0             </td><td>202               </td><td>Human             </td><td>33.33007          </td></tr>\n",
       "\t<tr><td>Beru Whitesun lars</td><td> 75.0             </td><td>165               </td><td>Human             </td><td>27.54821          </td></tr>\n",
       "\t<tr><td>Wedge Antilles    </td><td> 77.0             </td><td>170               </td><td>Human             </td><td>26.64360          </td></tr>\n",
       "\t<tr><td>Darth Maul        </td><td> 80.0             </td><td>175               </td><td>Zabrak            </td><td>26.12245          </td></tr>\n",
       "\t<tr><td>Luke Skywalker    </td><td> 77.0             </td><td>172               </td><td>Human             </td><td>26.02758          </td></tr>\n",
       "\t<tr><td>Palpatine         </td><td> 75.0             </td><td>170               </td><td>Human             </td><td>25.95156          </td></tr>\n",
       "\t<tr><td>Lobot             </td><td> 79.0             </td><td>175               </td><td>Human             </td><td>25.79592          </td></tr>\n",
       "\t<tr><td>Lando Calrissian  </td><td> 79.0             </td><td>177               </td><td>Human             </td><td>25.21625          </td></tr>\n",
       "\t<tr><td>Biggs Darklighter </td><td> 84.0             </td><td>183               </td><td>Human             </td><td>25.08286          </td></tr>\n",
       "\t<tr><td>Gregar Typho      </td><td> 85.0             </td><td>185               </td><td>Human             </td><td>24.83565          </td></tr>\n",
       "\t<tr><td>Han Solo          </td><td> 80.0             </td><td>180               </td><td>Human             </td><td>24.69136          </td></tr>\n",
       "\t<tr><td>Nute Gunray       </td><td> 90.0             </td><td>191               </td><td>Neimodian         </td><td>24.67038          </td></tr>\n",
       "\t<tr><td>Qui-Gon Jinn      </td><td> 89.0             </td><td>193               </td><td>Human             </td><td>23.89326          </td></tr>\n",
       "\t<tr><td>Anakin Skywalker  </td><td> 84.0             </td><td>188               </td><td>Human             </td><td>23.76641          </td></tr>\n",
       "\t<tr><td>Mace Windu        </td><td> 84.0             </td><td>188               </td><td>Human             </td><td>23.76641          </td></tr>\n",
       "\t<tr><td>Jango Fett        </td><td> 79.0             </td><td>183               </td><td>Human             </td><td>23.58984          </td></tr>\n",
       "\t<tr><td>Boba Fett         </td><td> 78.2             </td><td>183               </td><td>Human             </td><td>23.35095          </td></tr>\n",
       "\t<tr><td>Obi-Wan Kenobi    </td><td> 77.0             </td><td>182               </td><td>Human             </td><td>23.24598          </td></tr>\n",
       "\t<tr><td>Plo Koon          </td><td> 80.0             </td><td>188               </td><td>Kel Dor           </td><td>22.63468          </td></tr>\n",
       "\t<tr><td>Raymus Antilles   </td><td> 79.0             </td><td>188               </td><td>Human             </td><td>22.35174          </td></tr>\n",
       "\t<tr><td>Leia Organa       </td><td> 49.0             </td><td>150               </td><td>Human             </td><td>21.77778          </td></tr>\n",
       "\t<tr><td>Dooku             </td><td> 80.0             </td><td>193               </td><td>Human             </td><td>21.47709          </td></tr>\n",
       "\t<tr><td>Ki-Adi-Mundi      </td><td> 82.0             </td><td>198               </td><td>Cerean            </td><td>20.91623          </td></tr>\n",
       "\t<tr><td>Zam Wesell        </td><td> 55.0             </td><td>168               </td><td>Clawdite          </td><td>19.48696          </td></tr>\n",
       "\t<tr><td>Luminara Unduli   </td><td> 56.2             </td><td>170               </td><td>Mirialan          </td><td>19.44637          </td></tr>\n",
       "\t<tr><td>Barriss Offee     </td><td> 50.0             </td><td>166               </td><td>Mirialan          </td><td>18.14487          </td></tr>\n",
       "\t<tr><td>Shaak Ti          </td><td> 57.0             </td><td>178               </td><td>Togruta           </td><td>17.99015          </td></tr>\n",
       "\t<tr><td>Padmé Amidala     </td><td> 45.0             </td><td>165               </td><td>Human             </td><td>16.52893          </td></tr>\n",
       "\t<tr><td>Adi Gallia        </td><td> 50.0             </td><td>184               </td><td>Tholothian        </td><td>14.76843          </td></tr>\n",
       "</tbody>\n",
       "</table>\n"
      ],
      "text/latex": [
       "\\begin{tabular}{r|lllll}\n",
       " name & mass & height & species & imc\\\\\n",
       "\\hline\n",
       "\t Owen Lars          & 120.0              & 178                & Human              & 37.87401          \\\\\n",
       "\t Jek Tono Porkins   & 110.0              & 180                & Human              & 33.95062          \\\\\n",
       "\t Darth Vader        & 136.0              & 202                & Human              & 33.33007          \\\\\n",
       "\t Beru Whitesun lars &  75.0              & 165                & Human              & 27.54821          \\\\\n",
       "\t Wedge Antilles     &  77.0              & 170                & Human              & 26.64360          \\\\\n",
       "\t Darth Maul         &  80.0              & 175                & Zabrak             & 26.12245          \\\\\n",
       "\t Luke Skywalker     &  77.0              & 172                & Human              & 26.02758          \\\\\n",
       "\t Palpatine          &  75.0              & 170                & Human              & 25.95156          \\\\\n",
       "\t Lobot              &  79.0              & 175                & Human              & 25.79592          \\\\\n",
       "\t Lando Calrissian   &  79.0              & 177                & Human              & 25.21625          \\\\\n",
       "\t Biggs Darklighter  &  84.0              & 183                & Human              & 25.08286          \\\\\n",
       "\t Gregar Typho       &  85.0              & 185                & Human              & 24.83565          \\\\\n",
       "\t Han Solo           &  80.0              & 180                & Human              & 24.69136          \\\\\n",
       "\t Nute Gunray        &  90.0              & 191                & Neimodian          & 24.67038          \\\\\n",
       "\t Qui-Gon Jinn       &  89.0              & 193                & Human              & 23.89326          \\\\\n",
       "\t Anakin Skywalker   &  84.0              & 188                & Human              & 23.76641          \\\\\n",
       "\t Mace Windu         &  84.0              & 188                & Human              & 23.76641          \\\\\n",
       "\t Jango Fett         &  79.0              & 183                & Human              & 23.58984          \\\\\n",
       "\t Boba Fett          &  78.2              & 183                & Human              & 23.35095          \\\\\n",
       "\t Obi-Wan Kenobi     &  77.0              & 182                & Human              & 23.24598          \\\\\n",
       "\t Plo Koon           &  80.0              & 188                & Kel Dor            & 22.63468          \\\\\n",
       "\t Raymus Antilles    &  79.0              & 188                & Human              & 22.35174          \\\\\n",
       "\t Leia Organa        &  49.0              & 150                & Human              & 21.77778          \\\\\n",
       "\t Dooku              &  80.0              & 193                & Human              & 21.47709          \\\\\n",
       "\t Ki-Adi-Mundi       &  82.0              & 198                & Cerean             & 20.91623          \\\\\n",
       "\t Zam Wesell         &  55.0              & 168                & Clawdite           & 19.48696          \\\\\n",
       "\t Luminara Unduli    &  56.2              & 170                & Mirialan           & 19.44637          \\\\\n",
       "\t Barriss Offee      &  50.0              & 166                & Mirialan           & 18.14487          \\\\\n",
       "\t Shaak Ti           &  57.0              & 178                & Togruta            & 17.99015          \\\\\n",
       "\t Padmé Amidala      &  45.0              & 165                & Human              & 16.52893          \\\\\n",
       "\t Adi Gallia         &  50.0              & 184                & Tholothian         & 14.76843          \\\\\n",
       "\\end{tabular}\n"
      ],
      "text/markdown": [
       "\n",
       "name | mass | height | species | imc | \n",
       "|---|---|---|---|---|---|---|---|---|---|---|---|---|---|---|---|---|---|---|---|---|---|---|---|---|---|---|---|---|---|---|\n",
       "| Owen Lars          | 120.0              | 178                | Human              | 37.87401           | \n",
       "| Jek Tono Porkins   | 110.0              | 180                | Human              | 33.95062           | \n",
       "| Darth Vader        | 136.0              | 202                | Human              | 33.33007           | \n",
       "| Beru Whitesun lars |  75.0              | 165                | Human              | 27.54821           | \n",
       "| Wedge Antilles     |  77.0              | 170                | Human              | 26.64360           | \n",
       "| Darth Maul         |  80.0              | 175                | Zabrak             | 26.12245           | \n",
       "| Luke Skywalker     |  77.0              | 172                | Human              | 26.02758           | \n",
       "| Palpatine          |  75.0              | 170                | Human              | 25.95156           | \n",
       "| Lobot              |  79.0              | 175                | Human              | 25.79592           | \n",
       "| Lando Calrissian   |  79.0              | 177                | Human              | 25.21625           | \n",
       "| Biggs Darklighter  |  84.0              | 183                | Human              | 25.08286           | \n",
       "| Gregar Typho       |  85.0              | 185                | Human              | 24.83565           | \n",
       "| Han Solo           |  80.0              | 180                | Human              | 24.69136           | \n",
       "| Nute Gunray        |  90.0              | 191                | Neimodian          | 24.67038           | \n",
       "| Qui-Gon Jinn       |  89.0              | 193                | Human              | 23.89326           | \n",
       "| Anakin Skywalker   |  84.0              | 188                | Human              | 23.76641           | \n",
       "| Mace Windu         |  84.0              | 188                | Human              | 23.76641           | \n",
       "| Jango Fett         |  79.0              | 183                | Human              | 23.58984           | \n",
       "| Boba Fett          |  78.2              | 183                | Human              | 23.35095           | \n",
       "| Obi-Wan Kenobi     |  77.0              | 182                | Human              | 23.24598           | \n",
       "| Plo Koon           |  80.0              | 188                | Kel Dor            | 22.63468           | \n",
       "| Raymus Antilles    |  79.0              | 188                | Human              | 22.35174           | \n",
       "| Leia Organa        |  49.0              | 150                | Human              | 21.77778           | \n",
       "| Dooku              |  80.0              | 193                | Human              | 21.47709           | \n",
       "| Ki-Adi-Mundi       |  82.0              | 198                | Cerean             | 20.91623           | \n",
       "| Zam Wesell         |  55.0              | 168                | Clawdite           | 19.48696           | \n",
       "| Luminara Unduli    |  56.2              | 170                | Mirialan           | 19.44637           | \n",
       "| Barriss Offee      |  50.0              | 166                | Mirialan           | 18.14487           | \n",
       "| Shaak Ti           |  57.0              | 178                | Togruta            | 17.99015           | \n",
       "| Padmé Amidala      |  45.0              | 165                | Human              | 16.52893           | \n",
       "| Adi Gallia         |  50.0              | 184                | Tholothian         | 14.76843           | \n",
       "\n",
       "\n"
      ],
      "text/plain": [
       "   name               mass  height species    imc     \n",
       "1  Owen Lars          120.0 178    Human      37.87401\n",
       "2  Jek Tono Porkins   110.0 180    Human      33.95062\n",
       "3  Darth Vader        136.0 202    Human      33.33007\n",
       "4  Beru Whitesun lars  75.0 165    Human      27.54821\n",
       "5  Wedge Antilles      77.0 170    Human      26.64360\n",
       "6  Darth Maul          80.0 175    Zabrak     26.12245\n",
       "7  Luke Skywalker      77.0 172    Human      26.02758\n",
       "8  Palpatine           75.0 170    Human      25.95156\n",
       "9  Lobot               79.0 175    Human      25.79592\n",
       "10 Lando Calrissian    79.0 177    Human      25.21625\n",
       "11 Biggs Darklighter   84.0 183    Human      25.08286\n",
       "12 Gregar Typho        85.0 185    Human      24.83565\n",
       "13 Han Solo            80.0 180    Human      24.69136\n",
       "14 Nute Gunray         90.0 191    Neimodian  24.67038\n",
       "15 Qui-Gon Jinn        89.0 193    Human      23.89326\n",
       "16 Anakin Skywalker    84.0 188    Human      23.76641\n",
       "17 Mace Windu          84.0 188    Human      23.76641\n",
       "18 Jango Fett          79.0 183    Human      23.58984\n",
       "19 Boba Fett           78.2 183    Human      23.35095\n",
       "20 Obi-Wan Kenobi      77.0 182    Human      23.24598\n",
       "21 Plo Koon            80.0 188    Kel Dor    22.63468\n",
       "22 Raymus Antilles     79.0 188    Human      22.35174\n",
       "23 Leia Organa         49.0 150    Human      21.77778\n",
       "24 Dooku               80.0 193    Human      21.47709\n",
       "25 Ki-Adi-Mundi        82.0 198    Cerean     20.91623\n",
       "26 Zam Wesell          55.0 168    Clawdite   19.48696\n",
       "27 Luminara Unduli     56.2 170    Mirialan   19.44637\n",
       "28 Barriss Offee       50.0 166    Mirialan   18.14487\n",
       "29 Shaak Ti            57.0 178    Togruta    17.99015\n",
       "30 Padmé Amidala       45.0 165    Human      16.52893\n",
       "31 Adi Gallia          50.0 184    Tholothian 14.76843"
      ]
     },
     "metadata": {},
     "output_type": "display_data"
    }
   ],
   "source": [
    "#nossos dados serão rearranjados a partir do IMC, de forma decrescente\n",
    "\n",
    "#como forma de saída, teremos os dados com a primeira posição sendo ocupada\n",
    "#pelo personagem com maior IMC, e o úlitmo sendo do de menor IMC\n",
    "\n",
    "starwars %>%\n",
    "    select(name, mass, height, species) %>%\n",
    "    filter(!is.na(mass),\n",
    "          !is.na(height)) %>%\n",
    "    mutate(imc = mass / (height / 100) ** 2) %>%\n",
    "    filter(species %in% c('Human', 'Cerean', 'Clawdite', 'Kel Dor', 'Mirialan', 'Neimodian',\n",
    "                         'Tholothian', 'Togruta', 'Zabrak')) %>%\n",
    "    arrange(desc(imc))"
   ]
  },
  {
   "cell_type": "markdown",
   "metadata": {},
   "source": [
    "#### Summarise"
   ]
  },
  {
   "cell_type": "markdown",
   "metadata": {},
   "source": [
    "O summarise tem função de reduzir mútiplos valores em um único valor resumido resumo:"
   ]
  },
  {
   "cell_type": "code",
   "execution_count": 57,
   "metadata": {},
   "outputs": [
    {
     "name": "stdout",
     "output_type": "stream",
     "text": [
      "Observations: 9\n",
      "Variables: 2\n",
      "$ species   <chr> \"Cerean\", \"Clawdite\", \"Human\", \"Kel Dor\", \"Mirialan\", \"Ne...\n",
      "$ imc_medio <dbl> 20.91623, 19.48696, 25.48618, 22.63468, 18.79562, 24.6703...\n"
     ]
    }
   ],
   "source": [
    "#nesse trecho de código nossos dados serão agrupados (group_by) por espécie,\n",
    "#e cada espécie terá seu IMC médio obitido a partir do summarise\n",
    "\n",
    "#note que na saída não temos mais quatro variáveis como antes, temos apenas\n",
    "#duas: species (variável pela qual os dados foram agrupados), e imc_medio\n",
    "#(variável criada com o summarise), não existindo mais os indivíduos de cada\n",
    "# espécie\n",
    "\n",
    "starwars %>%\n",
    "    select(name, mass, height, species) %>%\n",
    "    filter(!is.na(mass),\n",
    "          !is.na(height)) %>%\n",
    "    mutate(imc = mass / (height / 100) ** 2) %>%\n",
    "    filter(species %in% c('Human', 'Cerean', 'Clawdite', 'Kel Dor', 'Mirialan', 'Neimodian',\n",
    "                         'Tholothian', 'Togruta', 'Zabrak')) %>%\n",
    "    group_by(species) %>%\n",
    "    summarise(imc_medio = mean(imc)) %>%"
   ]
  },
  {
   "cell_type": "markdown",
   "metadata": {},
   "source": [
    "## ggplot"
   ]
  },
  {
   "cell_type": "markdown",
   "metadata": {},
   "source": [
    "Sistema de criação e plotagem de gráficos"
   ]
  },
  {
   "cell_type": "code",
   "execution_count": 58,
   "metadata": {},
   "outputs": [
    {
     "data": {},
     "metadata": {},
     "output_type": "display_data"
    },
    {
     "data": {
      "image/png": "[encoded data removed]",
      "text/plain": [
       "plot without title"
      ]
     },
     "metadata": {},
     "output_type": "display_data"
    }
   ],
   "source": [
    "#agora será plotado um gráfico mostrando o IMC médio de cada espécie\n",
    "\n",
    "starwars %>%\n",
    "    select(name, mass, height, species) %>%\n",
    "    filter(!is.na(mass),\n",
    "          !is.na(height)) %>%\n",
    "    mutate(imc = mass / (height / 100) ** 2) %>%\n",
    "    filter(species %in% c('Human', 'Cerean', 'Clawdite', 'Kel Dor', 'Mirialan', 'Neimodian',\n",
    "                         'Tholothian', 'Togruta', 'Zabrak')) %>%\n",
    "    group_by(species) %>%\n",
    "    summarise(imc_medio = mean(imc)) %>%\n",
    "    ggplot(mapping = aes(x = species, y = imc_medio)) + \n",
    "    geom_col()"
   ]
  }
 ],
 "metadata": {
  "kernelspec": {
   "display_name": "R",
   "language": "R",
   "name": "ir"
  },
  "language_info": {
   "codemirror_mode": "r",
   "file_extension": ".r",
   "mimetype": "text/x-r-source",
   "name": "R",
   "pygments_lexer": "r",
   "version": "3.5.1"
  }
 },
 "nbformat": 4,
 "nbformat_minor": 2
}
